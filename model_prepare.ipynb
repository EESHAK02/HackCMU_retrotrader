{
 "cells": [
  {
   "cell_type": "code",
   "execution_count": 2,
   "id": "d98b76e1",
   "metadata": {},
   "outputs": [
    {
     "name": "stdout",
     "output_type": "stream",
     "text": [
      "Downloading summarizer model...\n",
      "Summarizer saved locally\n",
      "Downloading FinBERT sentiment model...\n",
      "FinBERT saved locally\n"
     ]
    }
   ],
   "source": [
    "from transformers import AutoTokenizer, AutoModelForSeq2SeqLM, pipeline\n",
    "import os\n",
    "\n",
    "SAVE_DIR = \"./models/retro_summarizer\"\n",
    "os.makedirs(SAVE_DIR, exist_ok=True)\n",
    "\n",
    "# --- Summarizer ---\n",
    "print(\"Downloading summarizer model...\")\n",
    "tokenizer = AutoTokenizer.from_pretrained(\"sshleifer/distilbart-cnn-12-6\")\n",
    "model = AutoModelForSeq2SeqLM.from_pretrained(\"sshleifer/distilbart-cnn-12-6\")\n",
    "tokenizer.save_pretrained(SAVE_DIR)\n",
    "model.save_pretrained(SAVE_DIR)\n",
    "print(\"Summarizer saved locally\")\n",
    "\n",
    "# --- FinBERT ---\n",
    "from transformers import AutoTokenizer, AutoModelForSequenceClassification, pipeline\n",
    "import os\n",
    "\n",
    "FINBERT_DIR = \"./models/finbert\"\n",
    "os.makedirs(FINBERT_DIR, exist_ok=True)\n",
    "\n",
    "print(\"Downloading FinBERT sentiment model...\")\n",
    "tokenizer = AutoTokenizer.from_pretrained(\"ProsusAI/finbert\")\n",
    "model = AutoModelForSequenceClassification.from_pretrained(\"ProsusAI/finbert\")\n",
    "\n",
    "tokenizer.save_pretrained(FINBERT_DIR)\n",
    "model.save_pretrained(FINBERT_DIR)\n",
    "print(\"FinBERT saved locally\")\n"
   ]
  },
  {
   "cell_type": "code",
   "execution_count": null,
   "id": "bca436e7",
   "metadata": {},
   "outputs": [],
   "source": []
  }
 ],
 "metadata": {
  "kernelspec": {
   "display_name": "HackCMU",
   "language": "python",
   "name": "python3"
  },
  "language_info": {
   "codemirror_mode": {
    "name": "ipython",
    "version": 3
   },
   "file_extension": ".py",
   "mimetype": "text/x-python",
   "name": "python",
   "nbconvert_exporter": "python",
   "pygments_lexer": "ipython3",
   "version": "3.11.9"
  }
 },
 "nbformat": 4,
 "nbformat_minor": 5
}
